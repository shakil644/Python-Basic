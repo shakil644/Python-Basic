{
  "nbformat": 4,
  "nbformat_minor": 0,
  "metadata": {
    "colab": {
      "provenance": []
    },
    "kernelspec": {
      "name": "python3",
      "display_name": "Python 3"
    },
    "language_info": {
      "name": "python"
    }
  },
  "cells": [
    {
      "cell_type": "markdown",
      "source": [
        "# Phython Basics Questions"
      ],
      "metadata": {
        "id": "xyip38s8SqRN"
      }
    },
    {
      "cell_type": "markdown",
      "source": [
        "1.what is python, and why is it popular?\n",
        "  --> python is a high levels,interpreted programming language khown for its simplicity,readability and versatility.\n",
        "\n",
        "  --> Python is much popular because\n",
        "      1.easy to larn syntax,similar to natural language\n",
        "      2.huge libraries for various application(ex..numpy,pandas)\n",
        "      3.cross-platform compatibility(windows,macOS,linux)\n",
        "      4.large community support.\n",
        "\n",
        "2.what is an interpreter in python??\n",
        "  --> An interpreter in Python is a program that executes Python code line by line rather than compiling the entire program at once.This enables faster debugging and an interactive programming experience.\n",
        "\n",
        "3.what are pre-defined keywords in python?\n",
        "  --> Pre-defined keywords in python are reserved words that have a special meaning  and cannot be used as variable names.\n",
        "  ex-->\n",
        "      1.data types= int, float,str\n",
        "      2.boolean values= True, false,None\n",
        "      3.logical operators= and,or,not.\n",
        "\n",
        "4.can keywords be used as variable name?\n",
        "  --> no, keywords cannot be used as variable name because they have predefined meanings in python.\n",
        "\n",
        "5.what is mutability in python?\n",
        "  --> mutability refers to whether an objects value can be changed after it is created.\n",
        "  mutable objects: list,dict,set\n",
        "\n",
        "6.why are lists mutable, but tuples are immutable?\n",
        "  -->lists are mutable because they are designed for dynamic data storsge and allow modifications\n",
        "  Tuples are immutable for performance and security reasons.\n",
        "\n",
        "7.what is the difference between==and is operators in pyhon?\n",
        "\n",
        "  --> ==(equality operators): checks if two objects have the same value.\n",
        "      is(identity operators): checks if two objects refer to the same memory location.\n",
        "\n",
        "8.what are logical operators in pyhon?\n",
        "\n",
        "--> logical operators are used to combine conditional statements.\n",
        "\n",
        "9.what is type casting in python?\n",
        "\n",
        "--> type casting is converting a variable form one data type to another.\n",
        "  ex=\n",
        "     x=\"100\"\n",
        "     y=int(x) #converts str to int\n",
        "     print(y+10)\n",
        "     #output:110\n",
        "\n",
        "10.what is the difference between implicit and explicit type casting?\n",
        "\n",
        "  --> in python, implicit type casting happens automatically by the interpreter, while explicit type casting is done by the programmer using built-in functions like int, float,str.\n",
        "\n",
        "11.what is the purpose of conditional statements in python?\n",
        "\n",
        "  --> conditional statements allow decision-mskeing in programs by executing different code based on conditions.\n",
        "   ex=\n",
        "      x=10\n",
        "      if x>5:\n",
        "        print(\"x is greater than 5\")\n",
        "      else:\n",
        "        print(\"x is lass than or equal to 5\")\n",
        "\n",
        "12.how does the elif statement woek?\n",
        "\n",
        "  --> num=10\n",
        "      if num > 10:\n",
        "        print(\"greater than 10\")\n",
        "      elif num== 10:\n",
        "        print(\"equal to 10\")  #this gets executed\n",
        "      else:\n",
        "        print(\"less than 10\")\n",
        "\n",
        "13.what is the difference between for and while loops?\n",
        "\n",
        "  --> afor loop in python repeats executing a code block from a sequence till certain number of times.whereas a while loop in python repeats execution of a code block till the conditon is true which is not certain.\n",
        "\n",
        "14.describe asenario where a while loop is more suitable than a for loop.\n",
        "\n",
        "  --> ATM withdrawal simulation:\n",
        "     balance = 1000\n",
        "     while balance> 0:\n",
        "     withdrawal= int(input(\"enter withdrawal amount\"))\n",
        "     if withdrawal> balance:\n",
        "        print(\"insufficient funds\")\n",
        "      else:\n",
        "        balance-= withdrawal\n",
        "        print(f\"remaining balance:{blance}\")\n",
        "      if blance== 0:\n",
        "        print(\"account empty\")    \n"
      ],
      "metadata": {
        "id": "ucueDcDyTCtA"
      }
    },
    {
      "cell_type": "code",
      "source": [
        "#PRACTICAL QUESTIONS"
      ],
      "metadata": {
        "id": "QPB8643Ip0uX"
      },
      "execution_count": null,
      "outputs": []
    },
    {
      "cell_type": "code",
      "source": [
        "#write a python program to print\"hello world\"\n",
        "print(\"hello world\")"
      ],
      "metadata": {
        "colab": {
          "base_uri": "https://localhost:8080/"
        },
        "id": "3GDDXN5g3p99",
        "outputId": "1cd22e01-009c-47a1-b37d-4719b91c08d6"
      },
      "execution_count": null,
      "outputs": [
        {
          "output_type": "stream",
          "name": "stdout",
          "text": [
            "hello world\n"
          ]
        }
      ]
    },
    {
      "cell_type": "code",
      "source": [
        "#write a python program that displays your name and age.\n",
        "name= \"shakil ahamed\"\n",
        "age= 23\n",
        "print(\"shakil ahamed and i am 23 years old\")"
      ],
      "metadata": {
        "colab": {
          "base_uri": "https://localhost:8080/"
        },
        "id": "XurHYXlA3-bL",
        "outputId": "3ecbd59e-8c6a-4e31-8eff-dddc2a779442"
      },
      "execution_count": null,
      "outputs": [
        {
          "output_type": "stream",
          "name": "stdout",
          "text": [
            "shakil ahamed and i am 23 years old\n"
          ]
        }
      ]
    },
    {
      "cell_type": "code",
      "source": [
        "#write code to print all prea-defined keywolds.\n",
        "help(\"keywords\")\n"
      ],
      "metadata": {
        "colab": {
          "base_uri": "https://localhost:8080/"
        },
        "id": "d7gvbLqq4iV8",
        "outputId": "aa29f163-6ea9-4e98-eb44-7357ff31c62f"
      },
      "execution_count": null,
      "outputs": [
        {
          "output_type": "stream",
          "name": "stdout",
          "text": [
            "\n",
            "Here is a list of the Python keywords.  Enter any keyword to get more help.\n",
            "\n",
            "False               class               from                or\n",
            "None                continue            global              pass\n",
            "True                def                 if                  raise\n",
            "and                 del                 import              return\n",
            "as                  elif                in                  try\n",
            "assert              else                is                  while\n",
            "async               except              lambda              with\n",
            "await               finally             nonlocal            yield\n",
            "break               for                 not                 \n",
            "\n"
          ]
        }
      ]
    },
    {
      "cell_type": "code",
      "source": [
        "#check if a given word is a python keyword\n",
        "def is_keyword(word):\n",
        "  return word in keyword.kwlist\n",
        "print(is_keyword(\"if\"))"
      ],
      "metadata": {
        "colab": {
          "base_uri": "https://localhost:8080/"
        },
        "id": "JP-RJVZm5bY_",
        "outputId": "69612ef7-1abb-4c12-d207-e66142c62b7f"
      },
      "execution_count": null,
      "outputs": [
        {
          "output_type": "stream",
          "name": "stdout",
          "text": [
            "True\n"
          ]
        }
      ]
    },
    {
      "cell_type": "code",
      "source": [
        "#demonstrate list vs tuple immutability\n",
        "my_list=[1,2,3]\n",
        "my_list[0]=4\n",
        "print(my_list)"
      ],
      "metadata": {
        "colab": {
          "base_uri": "https://localhost:8080/"
        },
        "id": "mxzYoKQ68zmE",
        "outputId": "9c194d00-15a7-4645-c872-1d071d2f6cfc"
      },
      "execution_count": null,
      "outputs": [
        {
          "output_type": "stream",
          "name": "stdout",
          "text": [
            "[4, 2, 3]\n"
          ]
        }
      ]
    },
    {
      "cell_type": "code",
      "source": [
        "my_tuple=(1,2,3)\n",
        "my_tuple[0]=4\n",
        "print(my_tuple)"
      ],
      "metadata": {
        "colab": {
          "base_uri": "https://localhost:8080/",
          "height": 176
        },
        "id": "5K5sx0cO90Fy",
        "outputId": "f1e04544-0573-480a-8514-caa297941b8a"
      },
      "execution_count": null,
      "outputs": [
        {
          "output_type": "error",
          "ename": "TypeError",
          "evalue": "'tuple' object does not support item assignment",
          "traceback": [
            "\u001b[0;31m---------------------------------------------------------------------------\u001b[0m",
            "\u001b[0;31mTypeError\u001b[0m                                 Traceback (most recent call last)",
            "\u001b[0;32m<ipython-input-15-76c1acb03cca>\u001b[0m in \u001b[0;36m<cell line: 0>\u001b[0;34m()\u001b[0m\n\u001b[1;32m      1\u001b[0m \u001b[0mmy_tuple\u001b[0m\u001b[0;34m=\u001b[0m\u001b[0;34m(\u001b[0m\u001b[0;36m1\u001b[0m\u001b[0;34m,\u001b[0m\u001b[0;36m2\u001b[0m\u001b[0;34m,\u001b[0m\u001b[0;36m3\u001b[0m\u001b[0;34m)\u001b[0m\u001b[0;34m\u001b[0m\u001b[0;34m\u001b[0m\u001b[0m\n\u001b[0;32m----> 2\u001b[0;31m \u001b[0mmy_tuple\u001b[0m\u001b[0;34m[\u001b[0m\u001b[0;36m0\u001b[0m\u001b[0;34m]\u001b[0m\u001b[0;34m=\u001b[0m\u001b[0;36m4\u001b[0m\u001b[0;34m\u001b[0m\u001b[0;34m\u001b[0m\u001b[0m\n\u001b[0m\u001b[1;32m      3\u001b[0m \u001b[0mprint\u001b[0m\u001b[0;34m(\u001b[0m\u001b[0mmy_tuple\u001b[0m\u001b[0;34m)\u001b[0m\u001b[0;34m\u001b[0m\u001b[0;34m\u001b[0m\u001b[0m\n",
            "\u001b[0;31mTypeError\u001b[0m: 'tuple' object does not support item assignment"
          ]
        }
      ]
    },
    {
      "cell_type": "code",
      "source": [
        "#demonstrate mutable and immutable arguments\n",
        "def modify_args(immutable,mutable):\n",
        "  immutable+= \"world\"\n",
        "  mutable.append(4)\n",
        "  return immutable,mutable\n",
        "immutable_str=\"hello\"\n",
        "mutable_list=[1,2,3]\n",
        "immutable_str,mutable_list=modify_args(immutable_str,mutable_list)\n",
        "print(immutable_str)\n",
        "print(mutable_list)"
      ],
      "metadata": {
        "colab": {
          "base_uri": "https://localhost:8080/"
        },
        "id": "U9TMyevl99Ev",
        "outputId": "ab191104-5c16-4ab9-dcbd-a23a966d40e2"
      },
      "execution_count": null,
      "outputs": [
        {
          "output_type": "stream",
          "name": "stdout",
          "text": [
            "helloworld\n",
            "[1, 2, 3, 4]\n"
          ]
        }
      ]
    },
    {
      "cell_type": "code",
      "source": [
        "#demonstrate logical operators\n",
        "a,b = True, False\n",
        "print(a and b)\n",
        "print(a or b)\n",
        "print(not a)"
      ],
      "metadata": {
        "colab": {
          "base_uri": "https://localhost:8080/"
        },
        "id": "rzTPumx5_eRX",
        "outputId": "155a98b0-6556-4a6e-e204-7aad4aee18f4"
      },
      "execution_count": null,
      "outputs": [
        {
          "output_type": "stream",
          "name": "stdout",
          "text": [
            "False\n",
            "True\n",
            "False\n"
          ]
        }
      ]
    },
    {
      "cell_type": "code",
      "source": [
        "#convert user input to int,float,and bool\n",
        "user_input=input(\"10#\")\n",
        "int_value=int(user_input)\n",
        "float_value=float(user_input)\n",
        "bool_value=bool(user_input)\n",
        "print(int_value)\n",
        "print(float_value)\n",
        "print(bool_value)"
      ],
      "metadata": {
        "colab": {
          "base_uri": "https://localhost:8080/",
          "height": 495
        },
        "id": "gM4gwToh_5e8",
        "outputId": "5efdffc8-7c28-4584-f46b-8cf7cc35c1c8"
      },
      "execution_count": null,
      "outputs": [
        {
          "output_type": "error",
          "ename": "KeyboardInterrupt",
          "evalue": "Interrupted by user",
          "traceback": [
            "\u001b[0;31m---------------------------------------------------------------------------\u001b[0m",
            "\u001b[0;31mKeyboardInterrupt\u001b[0m                         Traceback (most recent call last)",
            "\u001b[0;32m<ipython-input-1-617182f3c1c8>\u001b[0m in \u001b[0;36m<cell line: 0>\u001b[0;34m()\u001b[0m\n\u001b[1;32m      1\u001b[0m \u001b[0;31m#convert user input to int,float,and bool\u001b[0m\u001b[0;34m\u001b[0m\u001b[0;34m\u001b[0m\u001b[0m\n\u001b[0;32m----> 2\u001b[0;31m \u001b[0muser_input\u001b[0m\u001b[0;34m=\u001b[0m\u001b[0minput\u001b[0m\u001b[0;34m(\u001b[0m\u001b[0;34m\"10\"\u001b[0m\u001b[0;34m)\u001b[0m\u001b[0;34m\u001b[0m\u001b[0;34m\u001b[0m\u001b[0m\n\u001b[0m\u001b[1;32m      3\u001b[0m \u001b[0mint_value\u001b[0m\u001b[0;34m=\u001b[0m\u001b[0mint\u001b[0m\u001b[0;34m(\u001b[0m\u001b[0muser_input\u001b[0m\u001b[0;34m)\u001b[0m\u001b[0;34m\u001b[0m\u001b[0;34m\u001b[0m\u001b[0m\n\u001b[1;32m      4\u001b[0m \u001b[0mfloat_value\u001b[0m\u001b[0;34m=\u001b[0m\u001b[0mfloat\u001b[0m\u001b[0;34m(\u001b[0m\u001b[0muser_input\u001b[0m\u001b[0;34m)\u001b[0m\u001b[0;34m\u001b[0m\u001b[0;34m\u001b[0m\u001b[0m\n\u001b[1;32m      5\u001b[0m \u001b[0mbool_value\u001b[0m\u001b[0;34m=\u001b[0m\u001b[0mbool\u001b[0m\u001b[0;34m(\u001b[0m\u001b[0muser_input\u001b[0m\u001b[0;34m)\u001b[0m\u001b[0;34m\u001b[0m\u001b[0;34m\u001b[0m\u001b[0m\n",
            "\u001b[0;32m/usr/local/lib/python3.11/dist-packages/ipykernel/kernelbase.py\u001b[0m in \u001b[0;36mraw_input\u001b[0;34m(self, prompt)\u001b[0m\n\u001b[1;32m   1175\u001b[0m                 \u001b[0;34m\"raw_input was called, but this frontend does not support input requests.\"\u001b[0m\u001b[0;34m\u001b[0m\u001b[0;34m\u001b[0m\u001b[0m\n\u001b[1;32m   1176\u001b[0m             )\n\u001b[0;32m-> 1177\u001b[0;31m         return self._input_request(\n\u001b[0m\u001b[1;32m   1178\u001b[0m             \u001b[0mstr\u001b[0m\u001b[0;34m(\u001b[0m\u001b[0mprompt\u001b[0m\u001b[0;34m)\u001b[0m\u001b[0;34m,\u001b[0m\u001b[0;34m\u001b[0m\u001b[0;34m\u001b[0m\u001b[0m\n\u001b[1;32m   1179\u001b[0m             \u001b[0mself\u001b[0m\u001b[0;34m.\u001b[0m\u001b[0m_parent_ident\u001b[0m\u001b[0;34m[\u001b[0m\u001b[0;34m\"shell\"\u001b[0m\u001b[0;34m]\u001b[0m\u001b[0;34m,\u001b[0m\u001b[0;34m\u001b[0m\u001b[0;34m\u001b[0m\u001b[0m\n",
            "\u001b[0;32m/usr/local/lib/python3.11/dist-packages/ipykernel/kernelbase.py\u001b[0m in \u001b[0;36m_input_request\u001b[0;34m(self, prompt, ident, parent, password)\u001b[0m\n\u001b[1;32m   1217\u001b[0m             \u001b[0;32mexcept\u001b[0m \u001b[0mKeyboardInterrupt\u001b[0m\u001b[0;34m:\u001b[0m\u001b[0;34m\u001b[0m\u001b[0;34m\u001b[0m\u001b[0m\n\u001b[1;32m   1218\u001b[0m                 \u001b[0;31m# re-raise KeyboardInterrupt, to truncate traceback\u001b[0m\u001b[0;34m\u001b[0m\u001b[0;34m\u001b[0m\u001b[0m\n\u001b[0;32m-> 1219\u001b[0;31m                 \u001b[0;32mraise\u001b[0m \u001b[0mKeyboardInterrupt\u001b[0m\u001b[0;34m(\u001b[0m\u001b[0;34m\"Interrupted by user\"\u001b[0m\u001b[0;34m)\u001b[0m \u001b[0;32mfrom\u001b[0m \u001b[0;32mNone\u001b[0m\u001b[0;34m\u001b[0m\u001b[0;34m\u001b[0m\u001b[0m\n\u001b[0m\u001b[1;32m   1220\u001b[0m             \u001b[0;32mexcept\u001b[0m \u001b[0mException\u001b[0m\u001b[0;34m:\u001b[0m\u001b[0;34m\u001b[0m\u001b[0;34m\u001b[0m\u001b[0m\n\u001b[1;32m   1221\u001b[0m                 \u001b[0mself\u001b[0m\u001b[0;34m.\u001b[0m\u001b[0mlog\u001b[0m\u001b[0;34m.\u001b[0m\u001b[0mwarning\u001b[0m\u001b[0;34m(\u001b[0m\u001b[0;34m\"Invalid Message:\"\u001b[0m\u001b[0;34m,\u001b[0m \u001b[0mexc_info\u001b[0m\u001b[0;34m=\u001b[0m\u001b[0;32mTrue\u001b[0m\u001b[0;34m)\u001b[0m\u001b[0;34m\u001b[0m\u001b[0;34m\u001b[0m\u001b[0m\n",
            "\u001b[0;31mKeyboardInterrupt\u001b[0m: Interrupted by user"
          ]
        }
      ]
    },
    {
      "cell_type": "code",
      "source": [
        "#type casting with list elements\n",
        "numbers = [\"1\",\"2\",\"3\"]\n",
        "numbers = list(map(int,numbers))\n",
        "print(numbers)"
      ],
      "metadata": {
        "colab": {
          "base_uri": "https://localhost:8080/"
        },
        "id": "vL-TnaNlAdKY",
        "outputId": "7fc965ad-6120-40fe-e886-f1df9cfc9607"
      },
      "execution_count": null,
      "outputs": [
        {
          "output_type": "stream",
          "name": "stdout",
          "text": [
            "[1, 2, 3]\n"
          ]
        }
      ]
    },
    {
      "cell_type": "code",
      "source": [
        "#check if a number is positive,negative,or zero\n",
        "number = -8\n",
        "if number> 0:\n",
        "  print(\"positive\")\n",
        "elif number< 0:\n",
        "  print(\"negative\")\n",
        "else:\n",
        "  print(\"zero\")"
      ],
      "metadata": {
        "colab": {
          "base_uri": "https://localhost:8080/"
        },
        "id": "VMjcUwjgEFZf",
        "outputId": "592e4f5a-3a6c-4e80-c17e-88e2da8fe533"
      },
      "execution_count": null,
      "outputs": [
        {
          "output_type": "stream",
          "name": "stdout",
          "text": [
            "negative\n"
          ]
        }
      ]
    },
    {
      "cell_type": "code",
      "source": [
        "#print numbers form 1 to 100\n",
        "for i in range(1,101):\n",
        "  print(i,end=\" \")\n"
      ],
      "metadata": {
        "colab": {
          "base_uri": "https://localhost:8080/"
        },
        "id": "tXDLQStYE81Z",
        "outputId": "3c5eddfb-896c-4280-8f61-57c18d355cbb"
      },
      "execution_count": null,
      "outputs": [
        {
          "output_type": "stream",
          "name": "stdout",
          "text": [
            "1 2 3 4 5 6 7 8 9 10 11 12 13 14 15 16 17 18 19 20 21 22 23 24 25 26 27 28 29 30 31 32 33 34 35 36 37 38 39 40 41 42 43 44 45 46 47 48 49 50 51 52 53 54 55 56 57 58 59 60 61 62 63 64 65 66 67 68 69 70 71 72 73 74 75 76 77 78 79 80 81 82 83 84 85 86 87 88 89 90 91 92 93 94 95 96 97 98 99 100 "
          ]
        }
      ]
    },
    {
      "cell_type": "code",
      "source": [
        "#sum of all even numbers between 1 and 500\n",
        "print(sum(i for i in range(1,501)if i % 2 ==0))"
      ],
      "metadata": {
        "colab": {
          "base_uri": "https://localhost:8080/"
        },
        "id": "UmKgfwxuF5RL",
        "outputId": "fc466872-1b0e-4ed3-afdc-e7e118c1d26d"
      },
      "execution_count": null,
      "outputs": [
        {
          "output_type": "stream",
          "name": "stdout",
          "text": [
            "62750\n"
          ]
        }
      ]
    },
    {
      "cell_type": "code",
      "source": [
        "#reverse a string using a whilw loop\n",
        "s=\"hello\"\n",
        "reversed_s=\"\"\n",
        "while s:\n",
        "  reversed_s+=s[0]\n",
        "  s=s[1:]\n",
        "print(reversed_s)"
      ],
      "metadata": {
        "colab": {
          "base_uri": "https://localhost:8080/"
        },
        "id": "bHvJ8X7rHGUN",
        "outputId": "f5b777a6-959f-40c8-aeb0-8ddfb86925f8"
      },
      "execution_count": null,
      "outputs": [
        {
          "output_type": "stream",
          "name": "stdout",
          "text": [
            "hello\n"
          ]
        }
      ]
    },
    {
      "cell_type": "code",
      "source": [
        "#factorial using a while loop\n",
        "num=5\n",
        "factorial=1\n",
        "while num>0:\n",
        "  factorial*=num\n",
        "  num-=1\n",
        "print(factorial)"
      ],
      "metadata": {
        "colab": {
          "base_uri": "https://localhost:8080/"
        },
        "id": "Uild8COjHgAn",
        "outputId": "6e56c25c-b017-4443-ae76-313fd6a6b0e8"
      },
      "execution_count": null,
      "outputs": [
        {
          "output_type": "stream",
          "name": "stdout",
          "text": [
            "120\n"
          ]
        }
      ]
    },
    {
      "cell_type": "code",
      "source": [],
      "metadata": {
        "id": "_gz6DS4wImHF"
      },
      "execution_count": null,
      "outputs": []
    }
  ]
}